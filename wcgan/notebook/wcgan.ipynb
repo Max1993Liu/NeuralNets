{
 "cells": [
  {
   "cell_type": "markdown",
   "metadata": {},
   "source": [
    "- Modified from https://github.com/eriklindernoren/PyTorch-GAN/blob/master/implementations/wgan/wgan.py"
   ]
  },
  {
   "cell_type": "code",
   "execution_count": 1,
   "metadata": {},
   "outputs": [],
   "source": [
    "import math\n",
    "import os\n",
    "\n",
    "import torchvision.transforms as transforms\n",
    "from torchvision.utils import save_image\n",
    "\n",
    "from torch.utils.data import DataLoader\n",
    "from torchvision import datasets\n",
    "from torch.autograd import Variable\n",
    "\n",
    "import torch.nn as nn\n",
    "import torch.nn.functional as F\n",
    "import torch\n",
    "\n",
    "import matplotlib.pyplot as plt\n",
    "%matplotlib inline"
   ]
  },
  {
   "cell_type": "code",
   "execution_count": 2,
   "metadata": {},
   "outputs": [],
   "source": [
    "n_epochs = 200\n",
    "batch_size = 64\n",
    "latent_dim = 100\n",
    "img_size = 28\n",
    "channels = 1\n",
    "sample_interval = 400"
   ]
  },
  {
   "cell_type": "code",
   "execution_count": 3,
   "metadata": {},
   "outputs": [],
   "source": [
    "os.makedirs(\"../data/mnist\", exist_ok=True)\n",
    "\n",
    "dataloader = torch.utils.data.DataLoader(\n",
    "    datasets.MNIST(\n",
    "        \"../data/mnist\",\n",
    "        train=True,\n",
    "        download=True,\n",
    "        transform=transforms.Compose(\n",
    "            [transforms.Resize(img_size), \n",
    "             transforms.ToTensor(), \n",
    "             transforms.Normalize([0.5], [0.5])]\n",
    "        ),\n",
    "    ),\n",
    "    batch_size=batch_size,\n",
    "    shuffle=True,\n",
    "    drop_last=True\n",
    ")"
   ]
  },
  {
   "cell_type": "code",
   "execution_count": 4,
   "metadata": {},
   "outputs": [],
   "source": [
    "sample_img, label = next(iter(dataloader))"
   ]
  },
  {
   "cell_type": "code",
   "execution_count": null,
   "metadata": {},
   "outputs": [],
   "source": []
  },
  {
   "cell_type": "code",
   "execution_count": 10,
   "metadata": {},
   "outputs": [],
   "source": [
    "class GeneratorLinear(nn.Module):\n",
    "    \n",
    "    def __init__(self):\n",
    "        super().__init__()\n",
    "        \n",
    "        def block(in_feature, out_feature, normalize=True):\n",
    "            layers = [nn.Linear(in_feature, out_feature)]\n",
    "            if normalize:\n",
    "                layers.append(nn.BatchNorm1d(out_feature))\n",
    "            layers.append(nn.LeakyReLU(0.1))\n",
    "            return layers\n",
    "        \n",
    "        self.model = nn.Sequential(\n",
    "            *block(latent_dim, 128, normalize=False),\n",
    "            *block(128, 256),\n",
    "            *block(256, 512),\n",
    "            *block(512, 1024),\n",
    "            nn.Linear(1024, img_size * img_size * channels),\n",
    "            nn.Tanh()\n",
    "            )\n",
    "        \n",
    "    def forward(self, z):\n",
    "        img = self.model(z)\n",
    "        img = img.view(img.shape[0], channels, img_size, img_size)\n",
    "        return img"
   ]
  },
  {
   "cell_type": "code",
   "execution_count": 11,
   "metadata": {},
   "outputs": [],
   "source": [
    "class DiscriminatorLinear(nn.Module):\n",
    "    \n",
    "    def __init__(self):\n",
    "        super().__init__()\n",
    "        self.model = nn.Sequential(\n",
    "            nn.Linear(img_size * img_size * channels, 512),\n",
    "            nn.LeakyReLU(0.1, inplace=True),\n",
    "            nn.Linear(512, 256),\n",
    "            nn.LeakyReLU(0.1, inplace=True),\n",
    "            nn.Linear(256, 1),\n",
    "            # nn.Sigmoid(),  -- no sigmoid in WGAN\n",
    "        )\n",
    "\n",
    "    def forward(self, img):\n",
    "        img_flat = img.view(img.size(0), -1)\n",
    "        validity = self.model(img_flat)\n",
    "        return validity"
   ]
  },
  {
   "cell_type": "code",
   "execution_count": 12,
   "metadata": {},
   "outputs": [],
   "source": [
    "# loss and optimizers\n",
    "adversarial_loss = torch.nn.BCELoss()\n",
    "\n",
    "generator = GeneratorLinear()\n",
    "discriminator = DiscriminatorLinear()\n",
    "\n",
    "optimizer_G = torch.optim.RMSprop(generator.parameters(), lr=5e-4)\n",
    "optimizer_D = torch.optim.RMSprop(discriminator.parameters(), lr=5e-4)"
   ]
  },
  {
   "cell_type": "code",
   "execution_count": null,
   "metadata": {
    "scrolled": true
   },
   "outputs": [],
   "source": [
    "# training\n",
    "n_epochs = 20\n",
    "\n",
    "for epoch in range(n_epochs):\n",
    "    for i, (imgs, _) in enumerate(dataloader):\n",
    "        valid = torch.empty((batch_size, 1), dtype=torch.float).fill_(1)\n",
    "        fake = torch.empty((batch_size, 1), dtype=torch.float).fill_(0)\n",
    "        \n",
    "        # generate images\n",
    "        z = torch.randn((batch_size, latent_dim))\n",
    "        gen_imgs = generator(z).data\n",
    "        \n",
    "        # train discriminator\n",
    "        optimizer_D.zero_grad()\n",
    "        loss_D = -torch.mean(discriminator(imgs)) + torch.mean(discriminator(gen_imgs))\n",
    "        loss_D.backward()\n",
    "        optimizer_D.step()\n",
    "        \n",
    "        # clip weights\n",
    "        for p in discriminator.parameters():\n",
    "            p.data.clamp_(-0.01, 0.01)\n",
    "        \n",
    "        if i % 5 == 0:\n",
    "            # train generator every 5 batch\n",
    "            optimizer_G.zero_grad()\n",
    "\n",
    "            loss_G = -torch.mean(discriminator(gen_imgs))\n",
    "            loss_G.backward()\n",
    "            optimizer_G.step()\n",
    "        \n",
    "        print(\n",
    "            \"[Epoch %d/%d] [Batch %d/%d] [D loss: %f] [G loss: %f]\"\n",
    "            % (epoch, n_epochs, i, len(dataloader), loss_D.item(), loss_G.item())\n",
    "        )\n",
    "    \n",
    "    print('Generated image at epoch {}'.format(epoch))\n",
    "    sample_image = gen_imgs.detach()[0].squeeze()\n",
    "    plt.imshow(sample_image)\n",
    "    plt.show()"
   ]
  },
  {
   "cell_type": "code",
   "execution_count": null,
   "metadata": {},
   "outputs": [],
   "source": []
  },
  {
   "cell_type": "code",
   "execution_count": null,
   "metadata": {},
   "outputs": [],
   "source": []
  },
  {
   "cell_type": "code",
   "execution_count": null,
   "metadata": {},
   "outputs": [],
   "source": []
  }
 ],
 "metadata": {
  "kernelspec": {
   "display_name": "Environment (conda_dl)",
   "language": "python",
   "name": "conda_dl"
  },
  "language_info": {
   "codemirror_mode": {
    "name": "ipython",
    "version": 3
   },
   "file_extension": ".py",
   "mimetype": "text/x-python",
   "name": "python",
   "nbconvert_exporter": "python",
   "pygments_lexer": "ipython3",
   "version": "3.5.6"
  }
 },
 "nbformat": 4,
 "nbformat_minor": 2
}
